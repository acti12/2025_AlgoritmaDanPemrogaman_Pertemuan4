{
  "nbformat": 4,
  "nbformat_minor": 0,
  "metadata": {
    "colab": {
      "provenance": [],
      "authorship_tag": "ABX9TyMSmJm4D/a7eyqVmurF1zan",
      "include_colab_link": true
    },
    "kernelspec": {
      "name": "python3",
      "display_name": "Python 3"
    },
    "language_info": {
      "name": "python"
    }
  },
  "cells": [
    {
      "cell_type": "markdown",
      "metadata": {
        "id": "view-in-github",
        "colab_type": "text"
      },
      "source": [
        "<a href=\"https://colab.research.google.com/github/acti12/2025_AlgoritmaDanPemrogaman_Pertemuan4/blob/main/Praktikum_7.ipynb\" target=\"_parent\"><img src=\"https://colab.research.google.com/assets/colab-badge.svg\" alt=\"Open In Colab\"/></a>"
      ]
    },
    {
      "cell_type": "markdown",
      "source": [
        "# Praktikum 1 - Tuple: Data Tetap"
      ],
      "metadata": {
        "id": "Pp8dHERuWI4T"
      }
    },
    {
      "cell_type": "code",
      "source": [
        "koordinat = (7.05, 110.44)\n",
        "\n",
        "print(\"Lintang:\", koordinat[0])\n",
        "print(\"Bujur:\", koordinat[1])\n"
      ],
      "metadata": {
        "colab": {
          "base_uri": "https://localhost:8080/"
        },
        "id": "rTGzU_sqWR1y",
        "outputId": "47749fc3-4db9-4f6d-8b72-fd99a46c1ab4"
      },
      "execution_count": 1,
      "outputs": [
        {
          "output_type": "stream",
          "name": "stdout",
          "text": [
            "Lintang: 7.05\n",
            "Bujur: 110.44\n"
          ]
        }
      ]
    },
    {
      "cell_type": "markdown",
      "source": [
        "# Praktikum 2 - Dictionary Dasar"
      ],
      "metadata": {
        "id": "CyNxgxMjWJXl"
      }
    },
    {
      "cell_type": "code",
      "source": [
        "mahasiswa = {\n",
        "    \"NIM\" : \"20251001\",\n",
        "    \"Nama\" : \"Andi\",\n",
        "    \"Prodi\" : \"TRK\"\n",
        "}\n",
        "\n",
        "print(\"NIM: \", mahasiswa[\"NIM\"])\n",
        "print(\"Nama: \", mahasiswa[\"Nama\"])\n",
        "print(\"Prodi: \", mahasiswa[\"Prodi\"])"
      ],
      "metadata": {
        "colab": {
          "base_uri": "https://localhost:8080/"
        },
        "id": "jUYYb7zbWSbF",
        "outputId": "e382e966-5ef5-4cb5-f466-e59d5ef4e10f"
      },
      "execution_count": 2,
      "outputs": [
        {
          "output_type": "stream",
          "name": "stdout",
          "text": [
            "NIM:  20251001\n",
            "Nama:  Andi\n",
            "Prodi:  TRK\n"
          ]
        }
      ]
    },
    {
      "cell_type": "markdown",
      "source": [
        "# Praktikum 3 - Operasi Dictionary"
      ],
      "metadata": {
        "id": "DNbBVZIYWJ6F"
      }
    },
    {
      "cell_type": "code",
      "source": [
        "mahasiswa = {\n",
        "    \"NIM\" : \"20251001\",\n",
        "    \"Nama\" : \"Andi\",\n",
        "    \"Prodi\" : \"TRK\"\n",
        "}\n",
        "mahasiswa[\"umur\"] = 19\n",
        "mahasiswa[\"Prodi\"] = \"Teknik Komputer\"\n",
        "del mahasiswa[\"umur\"]\n",
        "\n",
        "print(mahasiswa)"
      ],
      "metadata": {
        "colab": {
          "base_uri": "https://localhost:8080/"
        },
        "id": "QNpqka3KWTJ3",
        "outputId": "e502a681-a7c8-4ae9-c570-4677bfd540fe"
      },
      "execution_count": 3,
      "outputs": [
        {
          "output_type": "stream",
          "name": "stdout",
          "text": [
            "{'NIM': '20251001', 'Nama': 'Andi', 'Prodi': 'Teknik Komputer'}\n"
          ]
        }
      ]
    },
    {
      "cell_type": "markdown",
      "source": [
        "# Praktikum 4 - Set dan Operasi Himpunan"
      ],
      "metadata": {
        "id": "olY5zetEWKRa"
      }
    },
    {
      "cell_type": "code",
      "source": [
        "A = {1, 2, 3, 4}\n",
        "B = {3, 4, 5, 6}\n",
        "\n",
        "print(\"Union:\", A | B)\n",
        "print(\"Intersection:\", A & B)\n",
        "print(\"Difference:\", A - B)"
      ],
      "metadata": {
        "colab": {
          "base_uri": "https://localhost:8080/"
        },
        "id": "QCSsg9HFWTyP",
        "outputId": "8d573e6e-9bdc-49f1-88b8-85ee541835f8"
      },
      "execution_count": 4,
      "outputs": [
        {
          "output_type": "stream",
          "name": "stdout",
          "text": [
            "Union: {1, 2, 3, 4, 5, 6}\n",
            "Intersection: {3, 4}\n",
            "Difference: {1, 2}\n"
          ]
        }
      ]
    },
    {
      "cell_type": "markdown",
      "source": [
        "# Praktikum 5 - Studi Kasus Mata Kuliah"
      ],
      "metadata": {
        "id": "9IlEAVnWWKhh"
      }
    },
    {
      "cell_type": "code",
      "source": [
        "mhs1 = {\"Algoritma\", \"Matematika\", \"Bahasa Inggris\"}\n",
        "mhs2 = {\"Algoritma\", \"Basis Data\", \"Matematika\"}\n",
        "\n",
        "print(\"Mata kuliah mahasiswa 1 adalah: \", mhs1)\n",
        "print(\"Mata kuliah mahasiswa 2 adalah: \", mhs2)\n",
        "print(\"Mata kuliah mahasiswa 1 dan 2 adalah: \", mhs1 & mhs2)"
      ],
      "metadata": {
        "colab": {
          "base_uri": "https://localhost:8080/"
        },
        "id": "9tKe4UwuWUdW",
        "outputId": "0d16645f-0753-4a81-99cd-6952337c6610"
      },
      "execution_count": 5,
      "outputs": [
        {
          "output_type": "stream",
          "name": "stdout",
          "text": [
            "Mata kuliah mahasiswa 1 adalah:  {'Bahasa Inggris', 'Algoritma', 'Matematika'}\n",
            "Mata kuliah mahasiswa 2 adalah:  {'Algoritma', 'Basis Data', 'Matematika'}\n",
            "Mata kuliah mahasiswa 1 dan 2 adalah:  {'Algoritma', 'Matematika'}\n"
          ]
        }
      ]
    },
    {
      "cell_type": "markdown",
      "source": [
        "# Praktikum 6 - Studi Kasus Dictionary: Daftar Nilai\n"
      ],
      "metadata": {
        "id": "MLg-ON2QWK1G"
      }
    },
    {
      "cell_type": "code",
      "source": [
        "nilai_mahasiswa = {\n",
        "    \"Andi\" : 80,\n",
        "    \"Budi\" : 75,\n",
        "    \"Cici\" : 90,\n",
        "}\n",
        "\n",
        "for nama, nilai in nilai_mahasiswa.items():\n",
        "  print(f\"{nama}: {nilai}\")\n",
        "\n",
        "rata = sum(nilai_mahasiswa.values()) / len(nilai_mahasiswa)\n",
        "print(f\"Rata-rata nilai {len(nilai_mahasiswa)} Mahasiswa tersebut adalah: {rata:.2f}\")"
      ],
      "metadata": {
        "colab": {
          "base_uri": "https://localhost:8080/"
        },
        "id": "4GkMiDoeWVHm",
        "outputId": "6fbf308a-c5f3-4656-cc1a-d442e89e97d5"
      },
      "execution_count": 6,
      "outputs": [
        {
          "output_type": "stream",
          "name": "stdout",
          "text": [
            "Andi: 80\n",
            "Budi: 75\n",
            "Cici: 90\n",
            "Rata-rata nilai 3 Mahasiswa tersebut adalah: 81.67\n"
          ]
        }
      ]
    },
    {
      "cell_type": "markdown",
      "source": [
        "# Penugasan 1 - Tuple Sederhana"
      ],
      "metadata": {
        "id": "RSOBjZwtWLDZ"
      }
    },
    {
      "cell_type": "code",
      "source": [
        "mahasiswa = (\"Rafael\", 19, \"TRK\")\n",
        "\n",
        "print(f\"Nama:\", mahasiswa[0])\n",
        "print(f\"Umur:\", mahasiswa[1])\n",
        "print(f\"Prodi:\", mahasiswa[2])"
      ],
      "metadata": {
        "colab": {
          "base_uri": "https://localhost:8080/"
        },
        "id": "U64fo1vEWVgJ",
        "outputId": "87cd3446-d655-4267-8d35-fc158472d691"
      },
      "execution_count": 7,
      "outputs": [
        {
          "output_type": "stream",
          "name": "stdout",
          "text": [
            "Nama: Rafael\n",
            "Umur: 19\n",
            "Prodi: TRK\n"
          ]
        }
      ]
    },
    {
      "cell_type": "markdown",
      "source": [
        "# Penugasan 2 - Tuple Tidak Bisa Diubah"
      ],
      "metadata": {
        "id": "R8n7S3UVWLXJ"
      }
    },
    {
      "cell_type": "code",
      "execution_count": 8,
      "metadata": {
        "colab": {
          "base_uri": "https://localhost:8080/",
          "height": 211
        },
        "id": "mzGJjQONWFK0",
        "outputId": "9c0d9179-7d74-4cce-ce5e-5ff4b0c15152"
      },
      "outputs": [
        {
          "output_type": "error",
          "ename": "TypeError",
          "evalue": "'tuple' object does not support item assignment",
          "traceback": [
            "\u001b[0;31m---------------------------------------------------------------------------\u001b[0m",
            "\u001b[0;31mTypeError\u001b[0m                                 Traceback (most recent call last)",
            "\u001b[0;32m/tmp/ipython-input-726206232.py\u001b[0m in \u001b[0;36m<cell line: 0>\u001b[0;34m()\u001b[0m\n\u001b[1;32m      1\u001b[0m \u001b[0mnilai\u001b[0m \u001b[0;34m=\u001b[0m \u001b[0;34m(\u001b[0m\u001b[0;36m1\u001b[0m\u001b[0;34m,\u001b[0m \u001b[0;36m2\u001b[0m\u001b[0;34m,\u001b[0m \u001b[0;36m3\u001b[0m\u001b[0;34m)\u001b[0m\u001b[0;34m\u001b[0m\u001b[0;34m\u001b[0m\u001b[0m\n\u001b[1;32m      2\u001b[0m \u001b[0;34m\u001b[0m\u001b[0m\n\u001b[0;32m----> 3\u001b[0;31m \u001b[0mnilai\u001b[0m\u001b[0;34m[\u001b[0m\u001b[0;36m1\u001b[0m\u001b[0;34m]\u001b[0m \u001b[0;34m=\u001b[0m \u001b[0;36m5\u001b[0m\u001b[0;34m\u001b[0m\u001b[0;34m\u001b[0m\u001b[0m\n\u001b[0m\u001b[1;32m      4\u001b[0m \u001b[0;34m\u001b[0m\u001b[0m\n\u001b[1;32m      5\u001b[0m \u001b[0mprint\u001b[0m\u001b[0;34m(\u001b[0m\u001b[0mnilai\u001b[0m\u001b[0;34m)\u001b[0m\u001b[0;34m\u001b[0m\u001b[0;34m\u001b[0m\u001b[0m\n",
            "\u001b[0;31mTypeError\u001b[0m: 'tuple' object does not support item assignment"
          ]
        }
      ],
      "source": [
        "nilai = (1, 2, 3)\n",
        "\n",
        "nilai[1] = 5\n",
        "\n",
        "print(nilai)"
      ]
    },
    {
      "cell_type": "markdown",
      "source": [
        "# Penugasan 3 - Dictionary Dasar"
      ],
      "metadata": {
        "id": "KoSzJnY6W6n1"
      }
    },
    {
      "cell_type": "code",
      "source": [
        "data_buku = {\n",
        "    \"Judul\" : \"Algoritma\",\n",
        "    \"Penulis\" : \"Munir\",\n",
        "    \"Tahun\" : 2021\n",
        "}\n",
        "\n",
        "print(\"Judul:\", data_buku[\"Judul\"])\n",
        "print(\"Penulis:\", data_buku[\"Penulis\"])\n",
        "print(\"Tahun:\", data_buku[\"Tahun\"])"
      ],
      "metadata": {
        "colab": {
          "base_uri": "https://localhost:8080/"
        },
        "id": "HJp5w9u7W82Z",
        "outputId": "8b830175-02cf-4036-897a-f723167c4fa3"
      },
      "execution_count": 9,
      "outputs": [
        {
          "output_type": "stream",
          "name": "stdout",
          "text": [
            "Judul: Algoritma\n",
            "Penulis: Munir\n",
            "Tahun: 2021\n"
          ]
        }
      ]
    },
    {
      "cell_type": "markdown",
      "source": [
        "# Penugasan 4 - Operasi Dictionary"
      ],
      "metadata": {
        "id": "jevoZwc1W7Ye"
      }
    },
    {
      "cell_type": "code",
      "source": [
        "data_dosen = {\n",
        "    \"NIP\" : 1234,\n",
        "    \"Nama\" : \"Budi\",\n",
        "    \"Prodi\" : \"TRK\"\n",
        "}\n",
        "\n",
        "data_dosen[\"Umur\"] = 40\n",
        "data_dosen[\"Prodi\"] = \"Teknik Komputer\"\n",
        "del data_dosen[\"Umur\"]\n",
        "\n",
        "print(data_dosen)"
      ],
      "metadata": {
        "colab": {
          "base_uri": "https://localhost:8080/"
        },
        "id": "K6twgP0VW9Ph",
        "outputId": "a7f481d5-1cb7-4b33-c5fe-eb77c8b41588"
      },
      "execution_count": 10,
      "outputs": [
        {
          "output_type": "stream",
          "name": "stdout",
          "text": [
            "{'NIP': 1234, 'Nama': 'Budi', 'Prodi': 'Teknik Komputer'}\n"
          ]
        }
      ]
    },
    {
      "cell_type": "markdown",
      "source": [
        "# Penugasan 5 - Set dan Himpunan"
      ],
      "metadata": {
        "id": "2sb5NbG3W7pZ"
      }
    },
    {
      "cell_type": "code",
      "source": [
        "A = {\"Matematika\", \"Algoritma\", \"Bahasa Inggris\"}\n",
        "B = {\"Algoritma\", \"Basis Data\", \"Matematika\"}\n",
        "\n",
        "print(\"Union\", A | B)\n",
        "print(\"Intersection\", A & B)\n",
        "print(\"Difference\", A - B)"
      ],
      "metadata": {
        "colab": {
          "base_uri": "https://localhost:8080/"
        },
        "id": "3lTCSnawW9pF",
        "outputId": "a7d3afae-6597-4e6e-8d26-5067d9569579"
      },
      "execution_count": 11,
      "outputs": [
        {
          "output_type": "stream",
          "name": "stdout",
          "text": [
            "Union {'Bahasa Inggris', 'Algoritma', 'Basis Data', 'Matematika'}\n",
            "Intersection {'Algoritma', 'Matematika'}\n",
            "Difference {'Bahasa Inggris'}\n"
          ]
        }
      ]
    },
    {
      "cell_type": "markdown",
      "source": [
        "# Penugasan 6 - Studi Kasus Dictionary"
      ],
      "metadata": {
        "id": "sg1IaH_oW71d"
      }
    },
    {
      "cell_type": "code",
      "source": [
        "data = {\"Andi\": 85, \"Budi\": 90, \"Cici\": 78}\n",
        "\n",
        "\n",
        "for nama, nilai in data.items():\n",
        "  print(f\"{nama}: {nilai}\")\n",
        "\n",
        "rata = sum(data.values()) / len(data)\n",
        "print(f\"Rata-rata nilai {len(data)} Mahasiswa tersebut adalah: {rata:.2f}\")"
      ],
      "metadata": {
        "colab": {
          "base_uri": "https://localhost:8080/"
        },
        "id": "vPTuVX79W97G",
        "outputId": "a615c9be-118e-4495-fd52-a461a4302936"
      },
      "execution_count": 12,
      "outputs": [
        {
          "output_type": "stream",
          "name": "stdout",
          "text": [
            "Andi: 85\n",
            "Budi: 90\n",
            "Cici: 78\n",
            "Rata-rata nilai 3 Mahasiswa tersebut adalah: 84.33\n"
          ]
        }
      ]
    },
    {
      "cell_type": "markdown",
      "source": [
        "# Penugasan 7 - Studi Kasus Set - Klub Mahasiswa"
      ],
      "metadata": {
        "id": "hlB8mK0DW8CK"
      }
    },
    {
      "cell_type": "code",
      "source": [
        "Klub_a = {\"Andi\", \"Budi\", \"Cici\"}\n",
        "klub_b = {\"Cici\", \"Deni\", \"Eka\"}\n",
        "\n",
        "print(\"Seluruh orang yang termasuk kedalam klub mahasiswa adalah:\", Klub_a | klub_b)\n",
        "print(\"Seluruh orang yang termasuk kedalam kedua klub mahasiswa adalah:\", Klub_a & klub_b)\n",
        "print(\"Orang-orang yang ada di klub a namun tidak ada di klub b adalah:\", Klub_a - klub_b)"
      ],
      "metadata": {
        "colab": {
          "base_uri": "https://localhost:8080/"
        },
        "id": "yOyFS4hjW-S7",
        "outputId": "140af536-6128-41de-9590-72a77de131aa"
      },
      "execution_count": 14,
      "outputs": [
        {
          "output_type": "stream",
          "name": "stdout",
          "text": [
            "Seluruh orang yang termasuk kedalam klub mahasiswa adalah: {'Eka', 'Cici', 'Andi', 'Deni', 'Budi'}\n",
            "Seluruh orang yang termasuk kedalam kedua klub mahasiswa adalah: {'Cici'}\n",
            "Orang-orang yang ada di klub a namun tidak ada di klub b adalah: {'Budi', 'Andi'}\n"
          ]
        }
      ]
    }
  ]
}
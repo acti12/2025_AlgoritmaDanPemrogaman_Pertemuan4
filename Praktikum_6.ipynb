{
  "nbformat": 4,
  "nbformat_minor": 0,
  "metadata": {
    "colab": {
      "provenance": [],
      "authorship_tag": "ABX9TyMX/1I/tJbM5QHloJ6q+CN2",
      "include_colab_link": true
    },
    "kernelspec": {
      "name": "python3",
      "display_name": "Python 3"
    },
    "language_info": {
      "name": "python"
    }
  },
  "cells": [
    {
      "cell_type": "markdown",
      "metadata": {
        "id": "view-in-github",
        "colab_type": "text"
      },
      "source": [
        "<a href=\"https://colab.research.google.com/github/acti12/2025_AlgoritmaDanPemrogaman_Pertemuan4/blob/main/Praktikum_6.ipynb\" target=\"_parent\"><img src=\"https://colab.research.google.com/assets/colab-badge.svg\" alt=\"Open In Colab\"/></a>"
      ]
    },
    {
      "cell_type": "markdown",
      "source": [
        "# Praktikum 1 - Membuat dan Mengakses List ID"
      ],
      "metadata": {
        "id": "07r7oyvfek1c"
      }
    },
    {
      "cell_type": "code",
      "execution_count": null,
      "metadata": {
        "colab": {
          "base_uri": "https://localhost:8080/"
        },
        "id": "130d6iHBeZ_z",
        "outputId": "90acb476-2396-4d08-fa3a-db8f979a3de2"
      },
      "outputs": [
        {
          "output_type": "stream",
          "name": "stdout",
          "text": [
            "Andi\n",
            "Budi\n",
            "Cici\n"
          ]
        }
      ],
      "source": [
        "mahasiswa = [\"Andi\", \"Budi\", \"Cici\"]\n",
        "print(mahasiswa[0])\n",
        "print(mahasiswa[1])\n",
        "print(mahasiswa[-1])"
      ]
    },
    {
      "cell_type": "markdown",
      "source": [
        "# Praktikum 2 - Update dan Operasi Dasar List"
      ],
      "metadata": {
        "id": "NC2f2Ad1h7sq"
      }
    },
    {
      "cell_type": "code",
      "source": [
        "nilai = [85, 90, 78]\n",
        "nilai[1] = 95\n",
        "nilai.append(100)\n",
        "nilai.remove(78)\n",
        "print(nilai)"
      ],
      "metadata": {
        "colab": {
          "base_uri": "https://localhost:8080/"
        },
        "id": "EIQyVarghqIL",
        "outputId": "3e2e4de2-5a06-4673-a4c3-1790f0df8f21"
      },
      "execution_count": null,
      "outputs": [
        {
          "output_type": "stream",
          "name": "stdout",
          "text": [
            "[85, 95, 100]\n"
          ]
        }
      ]
    },
    {
      "cell_type": "markdown",
      "source": [
        "# Praktikum 3 - Slicing List"
      ],
      "metadata": {
        "id": "hF2RTWxTicGz"
      }
    },
    {
      "cell_type": "code",
      "source": [
        "nilai = [85, 90, 78, 92, 88]\n",
        "print(nilai[0:3])\n",
        "print(nilai[2:])\n",
        "print(nilai[:3])"
      ],
      "metadata": {
        "colab": {
          "base_uri": "https://localhost:8080/"
        },
        "id": "DbC3YIGGiikx",
        "outputId": "80d59e73-e3ba-4034-9bf2-4dd95c11f396"
      },
      "execution_count": null,
      "outputs": [
        {
          "output_type": "stream",
          "name": "stdout",
          "text": [
            "[85, 90, 78]\n",
            "[78, 92, 88]\n",
            "[85, 90, 78]\n"
          ]
        }
      ]
    },
    {
      "cell_type": "markdown",
      "source": [
        "# Praktikum 4 - List 2D"
      ],
      "metadata": {
        "id": "0OMI9x2vjEiR"
      }
    },
    {
      "cell_type": "code",
      "source": [
        "matriks = [\n",
        "           [1, 2, 3],\n",
        "           [4, 5, 6],\n",
        "           [7, 8, 9]\n",
        "]\n",
        "\n",
        "print(matriks[0][0])\n",
        "print(matriks[1][2])\n",
        "print(matriks[2])\n"
      ],
      "metadata": {
        "colab": {
          "base_uri": "https://localhost:8080/"
        },
        "id": "a61gDQlaib0P",
        "outputId": "a3dc0242-dc27-4cd5-85e3-ebf01b41598c"
      },
      "execution_count": null,
      "outputs": [
        {
          "output_type": "stream",
          "name": "stdout",
          "text": [
            "1\n",
            "6\n",
            "[7, 8, 9]\n"
          ]
        }
      ]
    },
    {
      "cell_type": "markdown",
      "source": [
        "# Praktikum 5 - Operasi pada List 2D"
      ],
      "metadata": {
        "id": "q039qp8Vkkue"
      }
    },
    {
      "cell_type": "code",
      "source": [
        "A = [[1, 2, 3], [4, 5, 6]]\n",
        "B = [[7, 8, 9], [10, 11, 12]]\n",
        "C = []\n",
        "\n",
        "for i in range(len(A)):\n",
        "  baris = []\n",
        "  for j in range(len(A[0])):\n",
        "    baris.append(A[i][j] + B[i][j])\n",
        "  C.append(baris)\n",
        "\n",
        "print(C)"
      ],
      "metadata": {
        "colab": {
          "base_uri": "https://localhost:8080/"
        },
        "id": "qmZkD2rLiaM3",
        "outputId": "cd174229-9819-4bc7-df78-e7e1211b9880"
      },
      "execution_count": null,
      "outputs": [
        {
          "output_type": "stream",
          "name": "stdout",
          "text": [
            "[[8, 10, 12], [14, 16, 18]]\n"
          ]
        }
      ]
    },
    {
      "cell_type": "markdown",
      "source": [
        "# Praktikum 6 - Studi Kasis : Pengelolaan Nilai Mahasiswa"
      ],
      "metadata": {
        "id": "ckhQGjZUlHpw"
      }
    },
    {
      "cell_type": "code",
      "source": [
        "nilai = [\n",
        "    [80, 90, 85],\n",
        "    [70, 75, 80],\n",
        "    [88, 92, 84]\n",
        "]\n",
        "\n",
        "for i, baris in enumerate(nilai, start=1) :\n",
        "  rata = sum(baris) / len(baris)\n",
        "  print(f\"Rata - rata mahasiswa {i}: {rata:.2f}\")"
      ],
      "metadata": {
        "colab": {
          "base_uri": "https://localhost:8080/"
        },
        "id": "dO7xkRsMlLYf",
        "outputId": "a4a9f625-b682-4de2-e3f4-5d24bcaba031"
      },
      "execution_count": null,
      "outputs": [
        {
          "output_type": "stream",
          "name": "stdout",
          "text": [
            "Rata - rata mahasiswa 1: 85.00\n",
            "Rata - rata mahasiswa 2: 75.00\n",
            "Rata - rata mahasiswa 3: 88.00\n"
          ]
        }
      ]
    },
    {
      "cell_type": "markdown",
      "source": [
        "# Penugasan 1 - Akses Elemen List"
      ],
      "metadata": {
        "id": "_fc5gUoBmKsh"
      }
    },
    {
      "cell_type": "code",
      "source": [
        "nama = [\"Rafael\", \"Rizky\", \"Ahmad\", \"Arda\", \"Abed\"]\n",
        "\n",
        "print(nama[0]) #Nama pertama\n",
        "print(nama[-1]) #Nama Terakhir\n",
        "print(nama[1]) #Nama Kedua"
      ],
      "metadata": {
        "colab": {
          "base_uri": "https://localhost:8080/"
        },
        "id": "k52_cydHQruD",
        "outputId": "50451d95-85a5-49cf-e53c-a3bf14627423"
      },
      "execution_count": null,
      "outputs": [
        {
          "output_type": "stream",
          "name": "stdout",
          "text": [
            "Rafael\n",
            "Abed\n",
            "Rizky\n"
          ]
        }
      ]
    },
    {
      "cell_type": "markdown",
      "source": [
        "# Penugasan 2 - Operasi Dasar List"
      ],
      "metadata": {
        "id": "StGakprkQvMk"
      }
    },
    {
      "cell_type": "code",
      "source": [
        "nilai = [70, 75, 80]\n",
        "\n",
        "nilai[1] = 85\n",
        "nilai.append(90)\n",
        "nilai.remove(70)\n",
        "print(nilai)"
      ],
      "metadata": {
        "colab": {
          "base_uri": "https://localhost:8080/"
        },
        "id": "MCM7mPxDQxoD",
        "outputId": "6e379916-9ba2-456f-86b0-1ae6c3af8da4"
      },
      "execution_count": null,
      "outputs": [
        {
          "output_type": "stream",
          "name": "stdout",
          "text": [
            "[85, 80, 90]\n"
          ]
        }
      ]
    },
    {
      "cell_type": "markdown",
      "source": [
        "# Penugasan 3 - Slicing List"
      ],
      "metadata": {
        "id": "48-BqkBGLRKf"
      }
    },
    {
      "cell_type": "code",
      "source": [
        "list = [1, 2, 3, 4, 5, 6, 7, 8, 9, 10]\n",
        "\n",
        "print(list[:3])\n",
        "print(list[-4:])\n",
        "\n",
        "genap = [i for i in list if i % 2 == 0]\n",
        "print(genap)"
      ],
      "metadata": {
        "colab": {
          "base_uri": "https://localhost:8080/"
        },
        "id": "8XMQJDB6LYVA",
        "outputId": "13773223-34f3-4720-fe6f-25bdf7dd6387"
      },
      "execution_count": null,
      "outputs": [
        {
          "output_type": "stream",
          "name": "stdout",
          "text": [
            "[1, 2, 3]\n",
            "[7, 8, 9, 10]\n",
            "[2, 4, 6, 8, 10]\n"
          ]
        }
      ]
    },
    {
      "cell_type": "markdown",
      "source": [
        "# Penugasan 4 - List 2D - Matriks"
      ],
      "metadata": {
        "id": "T-I4jz9YLcst"
      }
    },
    {
      "cell_type": "code",
      "source": [
        "angka = [\n",
        "    [1, 2, 3],\n",
        "    [4, 5, 6]\n",
        "]\n",
        "\n",
        "print(angka[0] [1])\n",
        "print(angka[1] [2])\n",
        "print(angka[0] [:3])"
      ],
      "metadata": {
        "colab": {
          "base_uri": "https://localhost:8080/"
        },
        "id": "RFkjCci2Lg-N",
        "outputId": "799b9dba-eea9-48f4-f334-b708305e3eb6"
      },
      "execution_count": null,
      "outputs": [
        {
          "output_type": "stream",
          "name": "stdout",
          "text": [
            "2\n",
            "6\n",
            "[1, 2, 3]\n"
          ]
        }
      ]
    },
    {
      "cell_type": "markdown",
      "source": [
        "# Penugasan 5 - Operasi Matriks 2D"
      ],
      "metadata": {
        "id": "FB9zizONLlH5"
      }
    },
    {
      "cell_type": "code",
      "source": [
        "matriks_a = [[2, 3, 4], [5, 6, 7]]\n",
        "matriks_b = [[8, 9, 10], [11, 12, 13]]\n",
        "matriks_c = []\n",
        "\n",
        "for i in range(len(matriks_a)):\n",
        "  baris = []\n",
        "  for j in range (len(matriks_a[0])):\n",
        "    baris.append(matriks_a[i][j] + matriks_b[i][j])\n",
        "  matriks_c.append(baris)\n",
        "\n",
        "print(matriks_c)"
      ],
      "metadata": {
        "colab": {
          "base_uri": "https://localhost:8080/"
        },
        "id": "68hw0i5vLkHm",
        "outputId": "242e088d-53ae-46d6-a21f-fb488eb82f2d"
      },
      "execution_count": null,
      "outputs": [
        {
          "output_type": "stream",
          "name": "stdout",
          "text": [
            "[[10, 12, 14], [16, 18, 20]]\n"
          ]
        }
      ]
    },
    {
      "cell_type": "markdown",
      "source": [
        "# Penugasan 6 - Rata - Rata Nilai Mahasiswa"
      ],
      "metadata": {
        "id": "aWrX4y6qLuzO"
      }
    },
    {
      "cell_type": "code",
      "source": [
        "nilai = [\n",
        "    [75, 80, 85],\n",
        "    [60, 70, 65],\n",
        "    [90, 95, 92]\n",
        "]\n",
        "\n",
        "for i, baris in enumerate (nilai, start=1):\n",
        "  rata = sum(baris) / len(baris)\n",
        "  print(f\"Rata-rata nilai mahasiswa {i} adalah {rata:.2f}\")"
      ],
      "metadata": {
        "colab": {
          "base_uri": "https://localhost:8080/"
        },
        "id": "gRzMRzvYLzCP",
        "outputId": "038780f3-5571-407d-a05e-134a35e1b6e2"
      },
      "execution_count": null,
      "outputs": [
        {
          "output_type": "stream",
          "name": "stdout",
          "text": [
            "Rata-rata nilai mahasiswa 1 adalah 80.00\n",
            "Rata-rata nilai mahasiswa 2 adalah 65.00\n",
            "Rata-rata nilai mahasiswa 3 adalah 92.33\n"
          ]
        }
      ]
    },
    {
      "cell_type": "markdown",
      "source": [
        "# Penugasan 7 - Studi Kasus - Data Toko"
      ],
      "metadata": {
        "id": "70fWFZtOL15K"
      }
    },
    {
      "cell_type": "code",
      "source": [
        "stok = [[\"Buku\", 20], [\"Pulpen\", 35], [\"Penghapus\", 15]]\n",
        "\n",
        "for baris in stok:\n",
        "  nama_barang = baris[0]\n",
        "  jumlah_stok = baris[1]\n",
        "  print(f\"Nama barang: {nama_barang}, Jumlah stok: {jumlah_stok}\")"
      ],
      "metadata": {
        "colab": {
          "base_uri": "https://localhost:8080/"
        },
        "id": "YVu3pm7IL1ZJ",
        "outputId": "b8b53665-6435-4d16-e7b4-668156f3cf04"
      },
      "execution_count": null,
      "outputs": [
        {
          "output_type": "stream",
          "name": "stdout",
          "text": [
            "Nama barang: Buku, Jumlah stok: 20\n",
            "Nama barang: Pulpen, Jumlah stok: 35\n",
            "Nama barang: Penghapus, Jumlah stok: 15\n"
          ]
        }
      ]
    }
  ]
}